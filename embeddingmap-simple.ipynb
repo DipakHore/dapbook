{
 "metadata": {
  "name": "embeddingmap-simple"
 },
 "nbformat": 3,
 "nbformat_minor": 0,
 "worksheets": [
  {
   "cells": [
    {
     "cell_type": "code",
     "collapsed": false,
     "input": [
      "import urllib2\n",
      "from IPython.display import HTML\n",
      "\n",
      "iframe = '<iframe src=\"data:text/html;base64,{}\" width=\"850\" height=\"650\"></iframe>'\n",
      "openlayers_ex = 'https://raw.github.com/pfctdayelise/dapbook/master/example-openlayers.html'\n",
      "html = urllib2.urlopen(openlayers_ex).read()\n",
      "HTML(iframe.format(html.encode('base64')))"
     ],
     "language": "python",
     "metadata": {},
     "outputs": [
      {
       "html": [
        "<iframe src=\"data:text/html;base64,PCFET0NUWVBFIGh0bWw+CjxodG1sPgo8aGVhZD4KICAgIDx0aXRsZT5PcGVuTGF5ZXJzIEV4YW1w\n",
        "bGU8L3RpdGxlPgogICAgPG1ldGEgY2hhcnNldD0idXRmLTgiIC8+CgogICAgPG1ldGEgbmFtZT0i\n",
        "dmlld3BvcnQiIGNvbnRlbnQ9IndpZHRoPWRldmljZS13aWR0aCwgaW5pdGlhbC1zY2FsZT0xLjAi\n",
        "PgogICA8c2NyaXB0IHNyYz0iaHR0cDovL29wZW5sYXllcnMub3JnL2FwaS9PcGVuTGF5ZXJzLmpz\n",
        "Ij48L3NjcmlwdD4gCiAgICA8bGluayByZWw9InN0eWxlc2hlZXQiIGhyZWY9Imh0dHA6Ly9vcGVu\n",
        "bGF5ZXJzLm9yZy9kZXYvdGhlbWUvZGVmYXVsdC9zdHlsZS5jc3MiIHR5cGU9InRleHQvY3NzIj4K\n",
        "ICAgIDxsaW5rIHJlbD0ic3R5bGVzaGVldCIgaHJlZj0iaHR0cDovL29wZW5sYXllcnMub3JnL2Rl\n",
        "di9leGFtcGxlcy9zdHlsZS5jc3MiIHR5cGU9InRleHQvY3NzIj4KICAgIDxzY3JpcHQgc3JjPSJo\n",
        "dHRwOi8vY29kZS5qcXVlcnkuY29tL2pxdWVyeS1sYXRlc3QuanMiPjwvc2NyaXB0PgogICAgPHNj\n",
        "cmlwdCB0eXBlPSJ0ZXh0L2phdmFzY3JpcHQiPgp2YXIgbWFwLCBvcGVubGF5ZXIsIG9zbWxheWVy\n",
        "LCBsYXllclNTVCwgbGF5ZXJXU1BELCBsYXllclNMUCwgbGF5ZXJBSVJUOwogICAgZnVuY3Rpb24g\n",
        "aW5pdCgpewoKICAgIG1hcCA9IG5ldyBPcGVuTGF5ZXJzLk1hcCgibWFwIiwgewogICAgY29udHJv\n",
        "bHM6IFsKICAgICAgICAgICAgbmV3IE9wZW5MYXllcnMuQ29udHJvbC5MYXllclN3aXRjaGVyKCks\n",
        "CiAgICAgICAgICAgIG5ldyBPcGVuTGF5ZXJzLkNvbnRyb2wuUGFuWm9vbUJhcigpLAogICAgICAg\n",
        "ICAgICBuZXcgT3BlbkxheWVycy5Db250cm9sLkF0dHJpYnV0aW9uKCksCiAgICAgICAgICAgIG5l\n",
        "dyBPcGVuTGF5ZXJzLkNvbnRyb2wuTW91c2VQb3NpdGlvbigpLAogICAgICAgICAgICBuZXcgT3Bl\n",
        "bkxheWVycy5Db250cm9sLk5hdmlnYXRpb24oKSwKICAgICAgICBdLAogICAgfSk7CgogICAgb3Bl\n",
        "bmxheWVyID0gbmV3IE9wZW5MYXllcnMuTGF5ZXIuV01TKCAiT3BlbkxheWVycyIsCiAgICAgICAg\n",
        "ICAgICAgICAiaHR0cDovL3ZtYXAwLnRpbGVzLm9zZ2VvLm9yZy93bXMvdm1hcDAiLCB7bGF5ZXJz\n",
        "OiAnYmFzaWMnfSk7CgogICAgb3NtbGF5ZXIgPSBuZXcgT3BlbkxheWVycy5MYXllci5XTVMoIk9w\n",
        "ZW5TdHJlZXRNYXAiLAogICAgICAgICAgICAgICAgImh0dHA6Ly9tYXBzLm9wZW5nZW8ub3JnL2dl\n",
        "b3dlYmNhY2hlL3NlcnZpY2Uvd21zIiwge2xheWVyczogJ29wZW5zdHJlZXRtYXAnLCAnZm9ybWF0\n",
        "JzogJ2ltYWdlL3BuZyd9KTsKICAgIAogICAgbGF5ZXJTU1QgPSBuZXcgT3BlbkxheWVycy5MYXll\n",
        "ci5XTVMoCiAgICAiU2VhIHN1cmZhY2UgdGVtcGVyYXR1cmUiLCAiaHR0cDovL3Rlc3QucHlkYXAu\n",
        "b3JnL2NvYWRzLm5jLndtcz9TU1RbMF0iLAogICAgewogICAgICAgIGxheWVyczogIlNTVCIsCiAg\n",
        "ICAgICAgdHJhbnNwYXJlbnQ6ICJ0cnVlIiwKICAgICAgICBmb3JtYXQ6ICJpbWFnZS9wbmciLAog\n",
        "ICAgfSwKICAgIHtpc0Jhc2VMYXllcjogZmFsc2V9CiAgICApOwoKICAgIGxheWVyV1NQRCA9IG5l\n",
        "dyBPcGVuTGF5ZXJzLkxheWVyLldNUygKICAgICJXaW5kIHNwZWVkIiwgImh0dHA6Ly90ZXN0LnB5\n",
        "ZGFwLm9yZy9jb2Fkcy5uYy53bXM/V1NQRFswXSIsCiAgICB7CiAgICAgICAgbGF5ZXJzOiAiV1NQ\n",
        "RCIsCiAgICAgICAgdHJhbnNwYXJlbnQ6ICJ0cnVlIiwKICAgICAgICBmb3JtYXQ6ICJpbWFnZS9w\n",
        "bmciLAogICAgfSwKICAgIHtpc0Jhc2VMYXllcjogZmFsc2V9CiAgICApOwoKICAgIGxheWVyQUlS\n",
        "VCA9IG5ldyBPcGVuTGF5ZXJzLkxheWVyLldNUygKICAgICJBaXIgdGVtcGVyYXR1cmUiLCAiaHR0\n",
        "cDovL3Rlc3QucHlkYXAub3JnL2NvYWRzLm5jLndtcz9BSVJUWzBdIiwKICAgIHsKICAgICAgICBs\n",
        "YXllcnM6ICJBSVJUIiwKICAgICAgICB0cmFuc3BhcmVudDogInRydWUiLAogICAgICAgIGZvcm1h\n",
        "dDogImltYWdlL3BuZyIsCiAgICB9LAogICAge2lzQmFzZUxheWVyOiBmYWxzZX0KICAgICk7Cgog\n",
        "ICAgbGF5ZXJTTFAgPSBuZXcgT3BlbkxheWVycy5MYXllci5XTVMoCiAgICAiU2VhIGxldmVsIHBy\n",
        "ZXNzdXJlIiwgImh0dHA6Ly90ZXN0LnB5ZGFwLm9yZy9jb2Fkcy5uYy53bXM/U0xQWzBdIiwKICAg\n",
        "IHsKICAgICAgICBsYXllcnM6ICJTTFAiLAogICAgICAgIHRyYW5zcGFyZW50OiAidHJ1ZSIsCiAg\n",
        "ICAgICAgZm9ybWF0OiAiaW1hZ2UvcG5nIiwKICAgIH0sCiAgICB7aXNCYXNlTGF5ZXI6IGZhbHNl\n",
        "fQogICAgKTsKCgptYXAuYWRkTGF5ZXJzKFtvc21sYXllciwgb3BlbmxheWVyLCBsYXllclNTVCwg\n",
        "bGF5ZXJXU1BELCBsYXllclNMUCwgbGF5ZXJBSVJUXSk7Cm1hcC5zZXRDZW50ZXIobmV3IE9wZW5M\n",
        "YXllcnMuTG9uTGF0KDAsIDApLCAyKTsKfQogICAgPC9zY3JpcHQ+Cgo8L2hlYWQ+Cjxib2R5IG9u\n",
        "bG9hZD0naW5pdCgpOyc+CiAgICA8ZGl2IGlkPSJtYXAiIHN0eWxlPSJ3aWR0aDo4MDBweDsgaGVp\n",
        "Z2h0OiA2MDBweCI+PC9kaXY+CjwvYm9keT4KPC9odG1sPgo=\n",
        "\" width=\"850\" height=\"650\"></iframe>"
       ],
       "output_type": "pyout",
       "prompt_number": 4,
       "text": [
        "<IPython.core.display.HTML at 0x946af6c>"
       ]
      }
     ],
     "prompt_number": 4
    },
    {
     "cell_type": "code",
     "collapsed": false,
     "input": [
      "leaflet_ex = 'https://raw.github.com/pfctdayelise/dapbook/master/example-leaflet.html'\n",
      "html = urllib2.urlopen(leaflet_ex).read()\n",
      "HTML(iframe.format(html.encode('base64')))"
     ],
     "language": "python",
     "metadata": {},
     "outputs": [
      {
       "html": [
        "<iframe src=\"data:text/html;base64,PCFET0NUWVBFIGh0bWw+CjxodG1sPgo8aGVhZD4KICAgIDx0aXRsZT5MZWFmbGV0IEV4YW1wbGU8\n",
        "L3RpdGxlPgogICAgPG1ldGEgY2hhcnNldD0idXRmLTgiIC8+CiAgICA8bWV0YSBuYW1lPSJ2aWV3\n",
        "cG9ydCIgY29udGVudD0id2lkdGg9ZGV2aWNlLXdpZHRoLCBpbml0aWFsLXNjYWxlPTEuMCI+ICAg\n",
        "IAogICAgPGxpbmsgcmVsPSJzdHlsZXNoZWV0IiBocmVmPSJodHRwOi8vY2RuLmxlYWZsZXRqcy5j\n",
        "b20vbGVhZmxldC0wLjYuMi9sZWFmbGV0LmNzcyIgLz4KICAgIDwhLS1baWYgbHRlIElFIDhdPgog\n",
        "IDxsaW5rIHJlbD0ic3R5bGVzaGVldCIgaHJlZj0iaHR0cDovL2Nkbi5sZWFmbGV0anMuY29tL2xl\n",
        "YWZsZXQtMC42LjIvbGVhZmxldC5pZS5jc3MiIC8+Cgk8IVtlbmRpZl0tLT4KPC9oZWFkPgo8Ym9k\n",
        "eT4KICAgIDxkaXYgaWQ9Im1hcCIgc3R5bGU9IndpZHRoOjgwMHB4OyBoZWlnaHQ6IDYwMHB4Ij48\n",
        "L2Rpdj4KICAgIDwhLS0gTm90ZSBsZWFmbGV0IGlzIHByZS0xLjAgc28gdGhlIEFQSSBtYXkgYnJl\n",
        "YWsgaW4gZnV0dXJlIHZlcnNpb25zLiAtLT4KICAgIDxzY3JpcHQgc3JjPSJodHRwOi8vY2RuLmxl\n",
        "YWZsZXRqcy5jb20vbGVhZmxldC0wLjYuMi9sZWFmbGV0LmpzIj48L3NjcmlwdD4KICAgIDxzY3Jp\n",
        "cHQgc3JjPSJodHRwOi8vY29kZS5qcXVlcnkuY29tL2pxdWVyeS1sYXRlc3QuanMiPjwvc2NyaXB0\n",
        "PgogICAgPHNjcmlwdCB0eXBlPSJ0ZXh0L2phdmFzY3JpcHQiPgoKICAgICAgdmFyIG1hcCA9IEwu\n",
        "bWFwKCdtYXAnLCB7CiAgICAgIC8vIHRoZSBweWRhcCB3bXMgcmVzcG9uc2UgaXMgaW4gRVBTRyA0\n",
        "MzI2CiAgICAgIGNyczogTC5DUlMuRVBTRzQzMjYKICAgICAgfSkuc2V0VmlldyhbLTQwLjgsIDE0\n",
        "N10sIDIpOyAgICAgICAgICAgICAKCiAgICAgIC8vIGNyZWF0ZSB0aGUgZGVmYXVsdCBsYXllcgog\n",
        "ICAgICB2YXIgb3BlbnN0cmVldG1hcCA9IEwudGlsZUxheWVyLndtcygnaHR0cDovL21hcHMub3Bl\n",
        "bmdlby5vcmcvZ2Vvd2ViY2FjaGUvc2VydmljZS93bXMnLCB7CiAgICAgICAgICBsYXllcnM6ICdv\n",
        "cGVuc3RyZWV0bWFwJywKICAgICAgICAgIGZvcm1hdDogJ2ltYWdlL3BuZycsCiAgICAgICAgICBh\n",
        "dHRyaWJ1dGlvbjogJ09wZW5TdHJlZXRNYXAgdmlhIG9wZW5nZW8ub3JnJywKICAgICAgfSk7ICAg\n",
        "ICAgICAgICAgICAgICAgICAgICAgICAgICAgICAgICAgICAgICAgICAgICAgICAgICAgICAgICAg\n",
        "ICAgICAgCgogICAgICAvLyBjcmVhdGUgcHlkYXAgbGF5ZXI7IG5vdGUgdGhhdCBpbiB0aGlzIGV4\n",
        "YW1wbGUgSSdtIG9ubHkKICAgICAgLy8gbG9hZGluZyBTU1QgZnJvbSB0aW1lIGluc3RhbnQgemVy\n",
        "byAoaWUsIEphbnVhcnkpCiAgICAgIHZhciBzc3QgPSBMLnRpbGVMYXllci53bXMoImh0dHA6Ly90\n",
        "ZXN0LnB5ZGFwLm9yZy9jb2Fkcy5uYy53bXM/U1NUWzBdIiwgeyAgICAgICAgICAgICAgICAgIAog\n",
        "ICAgICBsYXllcnM6ICdTU1QnLCAgICAgICAgICAgICAgICAgICAgICAgICAgICAgICAgICAgICAg\n",
        "ICAgICAgICAgICAgICAgICAgICAgICAgCiAgICAgIGZvcm1hdDogJ2ltYWdlL3BuZycsICAgICAg\n",
        "ICAgICAgICAgICAgICAgICAgICAgICAgICAgICAgICAgICAgICAgICAgICAgICAgICAKICAgICAg\n",
        "dHJhbnNwYXJlbnQ6IHRydWUsICAgICAgICAgICAgICAgICAgICAgICAgICAgICAgICAgICAgICAg\n",
        "ICAgICAgICAgICAgICAgICAgIAogICAgICBhdHRyaWJ1dGlvbjogInRlc3QucHlkYXAub3JnIiAg\n",
        "CiAgICAgIH0pOwogICAgICB2YXIgd3NwZCA9IEwudGlsZUxheWVyLndtcygiaHR0cDovL3Rlc3Qu\n",
        "cHlkYXAub3JnL2NvYWRzLm5jLndtcz9XU1BEWzBdIiwgeyAgICAgICAgICAgICAgICAgIAogICAg\n",
        "ICBsYXllcnM6ICdXU1BEJywgICAgICAgICAgICAgICAgICAgICAgICAgICAgICAgICAgICAgICAg\n",
        "ICAgICAgICAgICAgICAgICAgICAgIAogICAgICBmb3JtYXQ6ICdpbWFnZS9wbmcnLCAgICAgICAg\n",
        "ICAgICAgICAgICAgICAgICAgICAgICAgICAgICAgICAgICAgICAgICAgICAgICAgCiAgICAgIHRy\n",
        "YW5zcGFyZW50OiB0cnVlLCAgICAgICAgICAgICAgICAgICAgICAgICAgICAgICAgICAgICAgICAg\n",
        "ICAgICAgICAgICAgICAgICAKICAgICAgYXR0cmlidXRpb246ICJ0ZXN0LnB5ZGFwLm9yZyIgIAog\n",
        "ICAgICB9KTsKICAgICAgdmFyIGFpcnQgPSBMLnRpbGVMYXllci53bXMoImh0dHA6Ly90ZXN0LnB5\n",
        "ZGFwLm9yZy9jb2Fkcy5uYy53bXM/QUlSVFswXSIsIHsgICAgICAgICAgICAgICAgICAKICAgICAg\n",
        "bGF5ZXJzOiAnQUlSVCcsICAgICAgICAgICAgICAgICAgICAgICAgICAgICAgICAgICAgICAgICAg\n",
        "ICAgICAgICAgICAgICAgICAgICAKICAgICAgZm9ybWF0OiAnaW1hZ2UvcG5nJywgICAgICAgICAg\n",
        "ICAgICAgICAgICAgICAgICAgICAgICAgICAgICAgICAgICAgICAgICAgICAgIAogICAgICB0cmFu\n",
        "c3BhcmVudDogdHJ1ZSwgICAgICAgICAgICAgICAgICAgICAgICAgICAgICAgICAgICAgICAgICAg\n",
        "ICAgICAgICAgICAgICAgCiAgICAgIGF0dHJpYnV0aW9uOiAidGVzdC5weWRhcC5vcmciICAKICAg\n",
        "ICAgfSk7CiAgICAgIHZhciBzbHAgPSBMLnRpbGVMYXllci53bXMoImh0dHA6Ly90ZXN0LnB5ZGFw\n",
        "Lm9yZy9jb2Fkcy5uYy53bXM/U0xQWzBdIiwgeyAgICAgICAgICAgICAgICAgIAogICAgICBsYXll\n",
        "cnM6ICdTTFAnLCAgICAgICAgICAgICAgICAgICAgICAgICAgICAgICAgICAgICAgICAgICAgICAg\n",
        "ICAgICAgICAgICAgICAgCiAgICAgIGZvcm1hdDogJ2ltYWdlL3BuZycsICAgICAgICAgICAgICAg\n",
        "ICAgICAgICAgICAgICAgICAgICAgICAgICAgICAgICAgICAgICAgICAKICAgICAgdHJhbnNwYXJl\n",
        "bnQ6IHRydWUsICAgICAgICAgICAgICAgICAgICAgICAgICAgICAgICAgICAgICAgICAgICAgICAg\n",
        "ICAgICAgICAgIAogICAgICBhdHRyaWJ1dGlvbjogInRlc3QucHlkYXAub3JnIiAgCiAgICAgIH0p\n",
        "OwoKICAgICAgdmFyIGJhc2VNYXBzID0gewogICAgICAgICAgIk9wZW5TdHJlZXRNYXAiOiBvcGVu\n",
        "c3RyZWV0bWFwLAogICAgICB9OwogICAgICB2YXIgb3ZlcmxheU1hcHMgPSB7CiAgICAgICAgICAi\n",
        "U2VhIHN1cmZhY2UgdGVtcGVyYXR1cmUiOiBzc3QsCiAgICAgICAgICAiV2luZCBzcGVlZCI6IHdz\n",
        "cGQsCiAgICAgICAgICAiQWlyIHRlbXBlcmF0dXJlIjogYWlydCwKICAgICAgICAgICJTZWEgbGV2\n",
        "ZWwgcHJlc3N1cmUiOiBzbHAsCiAgICAgIH07CiAgICAgIG9wZW5zdHJlZXRtYXAuYWRkVG8obWFw\n",
        "KTsKICAgICAgc3N0LmFkZFRvKG1hcCk7CiAgICAgIEwuY29udHJvbC5sYXllcnMoYmFzZU1hcHMs\n",
        "IG92ZXJsYXlNYXBzKS5hZGRUbyhtYXApOwoKICAgICAgICB2YXIgcG9wdXAgPSBMLnBvcHVwKCk7\n",
        "CgogICAgICAgIGZ1bmN0aW9uIG9uTWFwQ2xpY2soZSkgewogICAgICAgICAgICBwb3B1cAogICAg\n",
        "ICAgICAgICAgICAgLnNldExhdExuZyhlLmxhdGxuZykKICAgICAgICAgICAgICAgIC5zZXRDb250\n",
        "ZW50KGUubGF0bG5nLnRvU3RyaW5nKCkpCiAgICAgICAgICAgICAgICAub3Blbk9uKG1hcCk7CiAg\n",
        "ICAgICAgCiAgICAgICAgICAgIGdldFNhbXBsZShlLmxhdGxuZyk7CiAgICAgICAgfQoKICAgICAg\n",
        "ICBtYXAub24oJ2NsaWNrJywgb25NYXBDbGljayk7CgogICAgPC9zY3JpcHQ+CjwvYm9keT4KPC9o\n",
        "dG1sPgo=\n",
        "\" width=\"850\" height=\"650\"></iframe>"
       ],
       "output_type": "pyout",
       "prompt_number": 5,
       "text": [
        "<IPython.core.display.HTML at 0x946ab0c>"
       ]
      }
     ],
     "prompt_number": 5
    }
   ],
   "metadata": {}
  }
 ]
}