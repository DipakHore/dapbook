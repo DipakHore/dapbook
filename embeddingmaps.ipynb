{
 "metadata": {
  "name": "Embedding maps"
 },
 "nbformat": 3,
 "nbformat_minor": 0,
 "worksheets": [
  {
   "cells": [
    {
     "cell_type": "code",
     "collapsed": false,
     "input": "import urllib2\nfrom IPython.display import HTML\n\nurl = 'https://raw.github.com/pfctdayelise/dapbook/master/example-openlayers.html'\nresponse = urllib2.urlopen(url)\nhtml = response.read()\niframe = '<iframe src=\"data:text/html;base64,{}\" width=\"850\" height=\"650\" />'.format(html.encode('base64'))\nHTML(iframe)",
     "language": "python",
     "metadata": {},
     "outputs": [
      {
       "html": "<iframe src=\"data:text/html;base64,PCFET0NUWVBFIGh0bWw+CjxodG1sPgo8aGVhZD4KICAgIDx0aXRsZT5PcGVuTGF5ZXJzIEV4YW1w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\nZ2h0OiA2MDBweCI+PC9kaXY+CjwvYm9keT4KPC9odG1sPgo=\n\" width=\"850\" height=\"650\" />",
       "output_type": "pyout",
       "prompt_number": 10,
       "text": "<IPython.core.display.HTML at 0x3ed2990>"
      }
     ],
     "prompt_number": 10
    },
    {
     "cell_type": "code",
     "collapsed": false,
     "input": "",
     "language": "python",
     "metadata": {},
     "outputs": []
    }
   ],
   "metadata": {}
  }
 ]
}
